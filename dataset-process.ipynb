{
 "cells": [
  {
   "cell_type": "markdown",
   "metadata": {},
   "source": [
    "## Collect and preprocess the data\n"
   ]
  },
  {
   "cell_type": "code",
   "metadata": {
    "ExecuteTime": {
     "end_time": "2025-05-01T20:13:01.442271Z",
     "start_time": "2025-05-01T20:13:01.424015Z"
    }
   },
   "source": [
    "import pandas as pd\n",
    "import numpy as np\n",
    "from sklearn.model_selection import train_test_split\n",
    "from sklearn.preprocessing import LabelEncoder\n",
    "\n",
    "# Define column names (based on dataset documentation)\n",
    "column_names = [\n",
    "    'timestamp', 'ActivityID', 'HeartRate',\n",
    "    'IMU_hand_temp', 'IMU_hand_acc_x', 'IMU_hand_acc_y', 'IMU_hand_acc_z',\n",
    "    'IMU_hand_gyro_x', 'IMU_hand_gyro_y', 'IMU_hand_gyro_z',\n",
    "    'IMU_hand_mag_x', 'IMU_hand_mag_y', 'IMU_hand_mag_z',\n",
    "    'IMU_chest_temp', 'IMU_chest_acc_x', 'IMU_chest_acc_y', 'IMU_chest_acc_z',\n",
    "    'IMU_chest_gyro_x', 'IMU_chest_gyro_y', 'IMU_chest_gyro_z',\n",
    "    'IMU_chest_mag_x', 'IMU_chest_mag_y', 'IMU_chest_mag_z',\n",
    "    'IMU_ankle_temp', 'IMU_ankle_acc_x', 'IMU_ankle_acc_y', 'IMU_ankle_acc_z',\n",
    "    'IMU_ankle_gyro_x', 'IMU_ankle_gyro_y', 'IMU_ankle_gyro_z',\n",
    "    'IMU_ankle_mag_x', 'IMU_ankle_mag_y', 'IMU_ankle_mag_z'\n",
    "]\n",
    "\n",
    "# Load and concatenate multiple subject files\n",
    "files = ['dataset/subject101.dat', 'dataset/subject102.dat', 'dataset/subject103.dat']  # Add more if needed\n",
    "df = pd.concat([pd.read_csv(f, sep=' ', header=None, names=column_names) for f in files])\n",
    "\n",
    "# Drop rows where ActivityID is NaN (not performing activity)\n",
    "df.dropna(subset=['ActivityID'], inplace=True)\n",
    "\n",
    "# Fill NaNs in sensor data with interpolation\n",
    "df.interpolate(method='linear', inplace=True)\n",
    "\n",
    "# Normalize relevant sensor columns\n",
    "sensor_cols = [col for col in df.columns if 'acc' in col or 'gyro' in col]\n",
    "df[sensor_cols] = df[sensor_cols].apply(lambda x: (x - x.mean()) / x.std())\n",
    "\n",
    "# Create sequences using sliding window\n",
    "def create_sequences(data, seq_length=50):\n",
    "    sequences, labels = [], []\n",
    "    for i in range(len(data) - seq_length):\n",
    "        window = data.iloc[i:i + seq_length]\n",
    "        if window['ActivityID'].nunique() == 1:  # Keep only consistent activity sequences\n",
    "            sequence = window[sensor_cols].values\n",
    "            label = int(window['ActivityID'].iloc[-1])\n",
    "            sequences.append(sequence)\n",
    "            labels.append(label)\n",
    "    return np.array(sequences), np.array(labels)\n",
    "\n",
    "X, y = create_sequences(df)\n",
    "\n",
    "# Encode labels to 0-based integers\n",
    "le = LabelEncoder()\n",
    "y_encoded = le.fit_transform(y)\n",
    "\n",
    "# Train-test split\n",
    "X_train, X_test, y_train, y_test = train_test_split(X, y_encoded, test_size=0.2, random_state=42)\n"
   ],
   "outputs": [
    {
     "ename": "ModuleNotFoundError",
     "evalue": "No module named 'pandas'",
     "output_type": "error",
     "traceback": [
      "\u001B[1;31m---------------------------------------------------------------------------\u001B[0m",
      "\u001B[1;31mModuleNotFoundError\u001B[0m                       Traceback (most recent call last)",
      "Cell \u001B[1;32mIn[6], line 1\u001B[0m\n\u001B[1;32m----> 1\u001B[0m \u001B[38;5;28;01mimport\u001B[39;00m\u001B[38;5;250m \u001B[39m\u001B[38;5;21;01mpandas\u001B[39;00m\u001B[38;5;250m \u001B[39m\u001B[38;5;28;01mas\u001B[39;00m\u001B[38;5;250m \u001B[39m\u001B[38;5;21;01mpd\u001B[39;00m\n\u001B[0;32m      2\u001B[0m \u001B[38;5;28;01mimport\u001B[39;00m\u001B[38;5;250m \u001B[39m\u001B[38;5;21;01mnumpy\u001B[39;00m\u001B[38;5;250m \u001B[39m\u001B[38;5;28;01mas\u001B[39;00m\u001B[38;5;250m \u001B[39m\u001B[38;5;21;01mnp\u001B[39;00m\n\u001B[0;32m      3\u001B[0m \u001B[38;5;28;01mfrom\u001B[39;00m\u001B[38;5;250m \u001B[39m\u001B[38;5;21;01msklearn\u001B[39;00m\u001B[38;5;21;01m.\u001B[39;00m\u001B[38;5;21;01mmodel_selection\u001B[39;00m\u001B[38;5;250m \u001B[39m\u001B[38;5;28;01mimport\u001B[39;00m train_test_split\n",
      "\u001B[1;31mModuleNotFoundError\u001B[0m: No module named 'pandas'"
     ]
    }
   ],
   "execution_count": 6
  },
  {
   "metadata": {},
   "cell_type": "markdown",
   "source": "#"
  },
  {
   "metadata": {
    "ExecuteTime": {
     "end_time": "2025-05-01T20:12:12.961092Z",
     "start_time": "2025-05-01T20:12:12.943300Z"
    }
   },
   "cell_type": "code",
   "source": [
    "import tensorflow as tf\n",
    "from tensorflow.keras.models import Sequential\n",
    "from tensorflow.keras.layers import LSTM, Dense, Dropout\n",
    "\n",
    "# Define model\n",
    "model = Sequential([\n",
    "    LSTM(64, input_shape=(X_train.shape[1], X_train.shape[2]), return_sequences=False),\n",
    "    Dropout(0.5),\n",
    "    Dense(32, activation='relu'),\n",
    "    Dense(len(np.unique(y_train)), activation='softmax')\n",
    "])\n",
    "\n",
    "model.compile(optimizer='adam', loss='sparse_categorical_crossentropy', metrics=['accuracy'])\n",
    "model.summary()\n",
    "\n",
    "# Train\n",
    "model.fit(X_train, y_train, epochs=10, batch_size=32, validation_split=0.2)\n",
    "\n",
    "\n",
    "# Save model\n",
    "model.save('sensor_model.h5')\n",
    "\n",
    "# Convert to TFLite\n",
    "converter = tf.lite.TFLiteConverter.from_keras_model(model)\n",
    "tflite_model = converter.convert()\n",
    "\n",
    "# Save the .tflite file\n",
    "with open('sensor_model.tflite', 'wb') as f:\n",
    "    f.write(tflite_model)\n"
   ],
   "outputs": [
    {
     "ename": "ModuleNotFoundError",
     "evalue": "No module named 'tensorflow'",
     "output_type": "error",
     "traceback": [
      "\u001B[1;31m---------------------------------------------------------------------------\u001B[0m",
      "\u001B[1;31mModuleNotFoundError\u001B[0m                       Traceback (most recent call last)",
      "Cell \u001B[1;32mIn[5], line 1\u001B[0m\n\u001B[1;32m----> 1\u001B[0m \u001B[38;5;28;01mimport\u001B[39;00m\u001B[38;5;250m \u001B[39m\u001B[38;5;21;01mtensorflow\u001B[39;00m\u001B[38;5;250m \u001B[39m\u001B[38;5;28;01mas\u001B[39;00m\u001B[38;5;250m \u001B[39m\u001B[38;5;21;01mtf\u001B[39;00m\n\u001B[0;32m      2\u001B[0m \u001B[38;5;28;01mfrom\u001B[39;00m\u001B[38;5;250m \u001B[39m\u001B[38;5;21;01mtensorflow\u001B[39;00m\u001B[38;5;21;01m.\u001B[39;00m\u001B[38;5;21;01mkeras\u001B[39;00m\u001B[38;5;21;01m.\u001B[39;00m\u001B[38;5;21;01mmodels\u001B[39;00m\u001B[38;5;250m \u001B[39m\u001B[38;5;28;01mimport\u001B[39;00m Sequential\n\u001B[0;32m      3\u001B[0m \u001B[38;5;28;01mfrom\u001B[39;00m\u001B[38;5;250m \u001B[39m\u001B[38;5;21;01mtensorflow\u001B[39;00m\u001B[38;5;21;01m.\u001B[39;00m\u001B[38;5;21;01mkeras\u001B[39;00m\u001B[38;5;21;01m.\u001B[39;00m\u001B[38;5;21;01mlayers\u001B[39;00m\u001B[38;5;250m \u001B[39m\u001B[38;5;28;01mimport\u001B[39;00m LSTM, Dense, Dropout\n",
      "\u001B[1;31mModuleNotFoundError\u001B[0m: No module named 'tensorflow'"
     ]
    }
   ],
   "execution_count": 5
  }
 ],
 "metadata": {
  "kernelspec": {
   "display_name": "Python (tf-env)\n",
   "language": "python",
   "name": "tf-env"
  },
  "language_info": {
   "name": "python",
   "version": "3.13.2"
  }
 },
 "nbformat": 4,
 "nbformat_minor": 2
}
